{
 "cells": [
  {
   "cell_type": "code",
   "execution_count": 1,
   "metadata": {},
   "outputs": [],
   "source": [
    "from pandas.io.json import json_normalize #package for flattening json in pandas df\n",
    "from pathlib import Path\n",
    "from pytz import timezone\n",
    "import pandas as pd\n",
    "import json\n",
    "import os \n",
    "import datetime\n",
    "\n",
    "#function to convert json data to pandas df \n",
    "def createDF(json_data):\n",
    "    try: \n",
    "        json_df = json_normalize(json_data['data'],record_path=['birds'],sep=\"_\")\n",
    "        time_stamp = datetime.datetime.strptime(json_data['timestamp'], '%d-%b-%Y %H:%M:%S.%f')\n",
    "        pacific_time = time_stamp.astimezone(timezone('US/Pacific')).strftime(\"%d-%b-%Y %H:%M:%S.%f\")\n",
    "        #time_stamp = json_data['timestamp']\n",
    "        bird = pd.concat([json_df.drop(['location'], axis=1), json_df['location'].apply(pd.Series)], axis=1)\n",
    "        bird['timestamp'] = pacific_time\n",
    "\n",
    "    except KeyError:\n",
    "        bird = pd.DataFrame()\n",
    "    return bird"
   ]
  },
  {
   "cell_type": "code",
   "execution_count": 13,
   "metadata": {},
   "outputs": [
    {
     "name": "stdout",
     "output_type": "stream",
     "text": [
      "   battery_level                               bird_id nest_id   latitude  \\\n",
      "0             63  3ffc1a8b-a939-4db4-82fa-bd44ee18d3a4     NaN  34.024433   \n",
      "1             60  6137c185-4c43-4a4f-8c9c-d1be75954d4a     NaN  34.024403   \n",
      "2             91  da84d4b4-d3a6-405b-8fef-21c04f31ca74     NaN  34.024963   \n",
      "3             87  73f1e864-c9f9-41b4-8381-d06b12c54364     NaN  34.024591   \n",
      "4             76  29b37932-e2db-41b6-a117-355b14d3791e     NaN  34.025197   \n",
      "\n",
      "    longitude                    timestamp  \n",
      "0 -118.497040  11-Jun-2019 19:35:01.455670  \n",
      "1 -118.497245  11-Jun-2019 19:35:01.455670  \n",
      "2 -118.496048  11-Jun-2019 19:35:01.455670  \n",
      "3 -118.495383  11-Jun-2019 19:35:01.455670  \n",
      "4 -118.495996  11-Jun-2019 19:35:01.455670  \n",
      "Completed!\n"
     ]
    }
   ],
   "source": [
    "# def createCSV():\n",
    "\n",
    "pathlist = Path(\"./responses\").glob('**/*.json') # return path object \n",
    "bird_data_list = []\n",
    "for path in pathlist:\n",
    "    path_in_str = str(path)\n",
    "    with open(path_in_str) as f:\n",
    "        json_f_data = json.load(f)\n",
    "        json_bird_df = createDF(json_f_data)\n",
    "        if json_bird_df.empty == False:\n",
    "            json_bird_df = json_bird_df.rename(columns = {'id':'bird_id'})\n",
    "            clean_bird_df = json_bird_df.drop(columns=['captive', 'code'])\n",
    "            bird_data_list.append(clean_bird_df)\n",
    "#         except ValueError: # no data for scooters, scooters are offline \n",
    "#             continue\n",
    "bird_data = pd.concat(bird_data_list, axis=0)\n",
    "print(bird_data.head())\n",
    "print(\"Completed!\")"
   ]
  },
  {
   "cell_type": "code",
   "execution_count": 15,
   "metadata": {},
   "outputs": [],
   "source": [
    "#bird_data.to_csv ('bird_data.csv', index = None, header=True) #output scooter data "
   ]
  },
  {
   "cell_type": "code",
   "execution_count": 14,
   "metadata": {},
   "outputs": [
    {
     "data": {
      "text/plain": [
       "5089"
      ]
     },
     "execution_count": 14,
     "metadata": {},
     "output_type": "execute_result"
    }
   ],
   "source": [
    "len(bird_data.bird_id.unique()) # 5089 unique birds "
   ]
  },
  {
   "cell_type": "code",
   "execution_count": 24,
   "metadata": {},
   "outputs": [],
   "source": [
    "import folium\n",
    "bird_data.timestamp = pd.to_datetime(bird_data.timestamp, format='%d-%b-%Y %H:%M:%S.%f')\n",
    "bird_data['month'] = bird_data.timestamp.apply(lambda x: x.month)\n",
    "bird_data['week'] = bird_data.timestamp.apply(lambda x: x.week)\n",
    "bird_data['day'] = bird_data.timestamp.apply(lambda x: x.day)\n",
    "bird_data['hour'] = bird_data.timestamp.apply(lambda x: x.hour)"
   ]
  },
  {
   "cell_type": "code",
   "execution_count": 25,
   "metadata": {},
   "outputs": [
    {
     "data": {
      "text/html": [
       "<div>\n",
       "<style scoped>\n",
       "    .dataframe tbody tr th:only-of-type {\n",
       "        vertical-align: middle;\n",
       "    }\n",
       "\n",
       "    .dataframe tbody tr th {\n",
       "        vertical-align: top;\n",
       "    }\n",
       "\n",
       "    .dataframe thead th {\n",
       "        text-align: right;\n",
       "    }\n",
       "</style>\n",
       "<table border=\"1\" class=\"dataframe\">\n",
       "  <thead>\n",
       "    <tr style=\"text-align: right;\">\n",
       "      <th></th>\n",
       "      <th>battery_level</th>\n",
       "      <th>bird_id</th>\n",
       "      <th>nest_id</th>\n",
       "      <th>latitude</th>\n",
       "      <th>longitude</th>\n",
       "      <th>timestamp</th>\n",
       "      <th>month</th>\n",
       "      <th>week</th>\n",
       "      <th>day</th>\n",
       "      <th>hour</th>\n",
       "    </tr>\n",
       "  </thead>\n",
       "  <tbody>\n",
       "    <tr>\n",
       "      <th>0</th>\n",
       "      <td>63</td>\n",
       "      <td>3ffc1a8b-a939-4db4-82fa-bd44ee18d3a4</td>\n",
       "      <td>NaN</td>\n",
       "      <td>34.024433</td>\n",
       "      <td>-118.497040</td>\n",
       "      <td>2019-06-11 19:35:01.455670</td>\n",
       "      <td>6</td>\n",
       "      <td>24</td>\n",
       "      <td>11</td>\n",
       "      <td>19</td>\n",
       "    </tr>\n",
       "    <tr>\n",
       "      <th>1</th>\n",
       "      <td>60</td>\n",
       "      <td>6137c185-4c43-4a4f-8c9c-d1be75954d4a</td>\n",
       "      <td>NaN</td>\n",
       "      <td>34.024403</td>\n",
       "      <td>-118.497245</td>\n",
       "      <td>2019-06-11 19:35:01.455670</td>\n",
       "      <td>6</td>\n",
       "      <td>24</td>\n",
       "      <td>11</td>\n",
       "      <td>19</td>\n",
       "    </tr>\n",
       "    <tr>\n",
       "      <th>2</th>\n",
       "      <td>91</td>\n",
       "      <td>da84d4b4-d3a6-405b-8fef-21c04f31ca74</td>\n",
       "      <td>NaN</td>\n",
       "      <td>34.024963</td>\n",
       "      <td>-118.496048</td>\n",
       "      <td>2019-06-11 19:35:01.455670</td>\n",
       "      <td>6</td>\n",
       "      <td>24</td>\n",
       "      <td>11</td>\n",
       "      <td>19</td>\n",
       "    </tr>\n",
       "    <tr>\n",
       "      <th>3</th>\n",
       "      <td>87</td>\n",
       "      <td>73f1e864-c9f9-41b4-8381-d06b12c54364</td>\n",
       "      <td>NaN</td>\n",
       "      <td>34.024591</td>\n",
       "      <td>-118.495383</td>\n",
       "      <td>2019-06-11 19:35:01.455670</td>\n",
       "      <td>6</td>\n",
       "      <td>24</td>\n",
       "      <td>11</td>\n",
       "      <td>19</td>\n",
       "    </tr>\n",
       "    <tr>\n",
       "      <th>4</th>\n",
       "      <td>76</td>\n",
       "      <td>29b37932-e2db-41b6-a117-355b14d3791e</td>\n",
       "      <td>NaN</td>\n",
       "      <td>34.025197</td>\n",
       "      <td>-118.495996</td>\n",
       "      <td>2019-06-11 19:35:01.455670</td>\n",
       "      <td>6</td>\n",
       "      <td>24</td>\n",
       "      <td>11</td>\n",
       "      <td>19</td>\n",
       "    </tr>\n",
       "  </tbody>\n",
       "</table>\n",
       "</div>"
      ],
      "text/plain": [
       "   battery_level                               bird_id nest_id   latitude  \\\n",
       "0             63  3ffc1a8b-a939-4db4-82fa-bd44ee18d3a4     NaN  34.024433   \n",
       "1             60  6137c185-4c43-4a4f-8c9c-d1be75954d4a     NaN  34.024403   \n",
       "2             91  da84d4b4-d3a6-405b-8fef-21c04f31ca74     NaN  34.024963   \n",
       "3             87  73f1e864-c9f9-41b4-8381-d06b12c54364     NaN  34.024591   \n",
       "4             76  29b37932-e2db-41b6-a117-355b14d3791e     NaN  34.025197   \n",
       "\n",
       "    longitude                  timestamp  month  week  day  hour  \n",
       "0 -118.497040 2019-06-11 19:35:01.455670      6    24   11    19  \n",
       "1 -118.497245 2019-06-11 19:35:01.455670      6    24   11    19  \n",
       "2 -118.496048 2019-06-11 19:35:01.455670      6    24   11    19  \n",
       "3 -118.495383 2019-06-11 19:35:01.455670      6    24   11    19  \n",
       "4 -118.495996 2019-06-11 19:35:01.455670      6    24   11    19  "
      ]
     },
     "execution_count": 25,
     "metadata": {},
     "output_type": "execute_result"
    }
   ],
   "source": [
    "bird_data.head()"
   ]
  },
  {
   "cell_type": "code",
   "execution_count": 26,
   "metadata": {},
   "outputs": [],
   "source": [
    "#34.024212, -118.496475\n",
    "def generateBaseMap(default_location=[34.024212, -118.496475], default_zoom_start=12):\n",
    "    base_map = folium.Map(location=default_location, control_scale=True, zoom_start=default_zoom_start)\n",
    "    return base_map"
   ]
  },
  {
   "cell_type": "code",
   "execution_count": 27,
   "metadata": {},
   "outputs": [
    {
     "data": {
      "text/html": [
       "<div style=\"width:100%;\"><div style=\"position:relative;width:100%;height:0;padding-bottom:60%;\"><iframe src=\"data:text/html;charset=utf-8;base64,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\" style=\"position:absolute;width:100%;height:100%;left:0;top:0;border:none !important;\" allowfullscreen webkitallowfullscreen mozallowfullscreen></iframe></div></div>"
      ],
      "text/plain": [
       "<folium.folium.Map at 0x1118e7940>"
      ]
     },
     "execution_count": 27,
     "metadata": {},
     "output_type": "execute_result"
    }
   ],
   "source": [
    "santa_monica = generateBaseMap()\n",
    "santa_monica"
   ]
  },
  {
   "cell_type": "code",
   "execution_count": 33,
   "metadata": {},
   "outputs": [
    {
     "data": {
      "text/plain": [
       "<folium.plugins.heat_map.HeatMap at 0x117c69eb8>"
      ]
     },
     "execution_count": 33,
     "metadata": {},
     "output_type": "execute_result"
    }
   ],
   "source": [
    "from folium.plugins import HeatMap\n",
    "heatmap_bird = bird_data.copy()\n",
    "heatmap_bird['count'] = 1\n",
    "base_map = generateBaseMap()\n",
    "HeatMap(data=heatmap_bird[['latitude', 'longitude', 'count']].groupby(['latitude', 'longitude']).sum().reset_index().values.tolist(), radius=8, max_zoom=13).add_to(base_map)"
   ]
  },
  {
   "cell_type": "code",
   "execution_count": 37,
   "metadata": {},
   "outputs": [],
   "source": [
    "time_stamp_list = []\n",
    "for hour in heatmap_bird.timestamp.sort_values().unique():\n",
    "    time_stamp_list.append(heatmap_bird.loc[heatmap_bird.timestamp == hour, ['latitude', 'longitude', 'count']].groupby(['latitude', 'longitude']).sum().reset_index().values.tolist())\n"
   ]
  },
  {
   "cell_type": "code",
   "execution_count": 39,
   "metadata": {},
   "outputs": [],
   "source": [
    "from folium.plugins import HeatMapWithTime\n",
    "base_map = generateBaseMap(default_zoom_start=11)\n",
    "HeatMapWithTime(time_stamp_list, radius=5, gradient={0.2: 'blue', 0.4: 'lime', 0.6: 'orange', 1: 'red'}, min_opacity=0.5, max_opacity=0.8, use_local_extrema=True).add_to(base_map)"
   ]
  },
  {
   "cell_type": "code",
   "execution_count": 40,
   "metadata": {},
   "outputs": [],
   "source": [
    "base_map.save(os.path.join('./flaskexample/templates/', 'heatmap_santamonica_bird.html'))"
   ]
  }
 ],
 "metadata": {
  "kernelspec": {
   "display_name": "Python 3",
   "language": "python",
   "name": "python3"
  },
  "language_info": {
   "codemirror_mode": {
    "name": "ipython",
    "version": 3
   },
   "file_extension": ".py",
   "mimetype": "text/x-python",
   "name": "python",
   "nbconvert_exporter": "python",
   "pygments_lexer": "ipython3",
   "version": "3.6.8"
  }
 },
 "nbformat": 4,
 "nbformat_minor": 2
}
