{
 "cells": [
  {
   "cell_type": "code",
   "execution_count": 8,
   "metadata": {},
   "outputs": [],
   "source": [
    "import pandas as pd  \n",
    "import numpy as np  \n",
    "import matplotlib.pyplot as plt  \n",
    "%matplotlib inline\n",
    "import seaborn as sb"
   ]
  },
  {
   "cell_type": "code",
   "execution_count": 10,
   "metadata": {},
   "outputs": [
    {
     "data": {
      "text/html": [
       "<div>\n",
       "<style scoped>\n",
       "    .dataframe tbody tr th:only-of-type {\n",
       "        vertical-align: middle;\n",
       "    }\n",
       "\n",
       "    .dataframe tbody tr th {\n",
       "        vertical-align: top;\n",
       "    }\n",
       "\n",
       "    .dataframe thead th {\n",
       "        text-align: right;\n",
       "    }\n",
       "</style>\n",
       "<table border=\"1\" class=\"dataframe\">\n",
       "  <thead>\n",
       "    <tr style=\"text-align: right;\">\n",
       "      <th></th>\n",
       "      <th>day_of_week</th>\n",
       "      <th>weekend</th>\n",
       "      <th>low_battery</th>\n",
       "      <th>month</th>\n",
       "      <th>day</th>\n",
       "      <th>hour</th>\n",
       "      <th>minute</th>\n",
       "    </tr>\n",
       "  </thead>\n",
       "  <tbody>\n",
       "    <tr>\n",
       "      <th>count</th>\n",
       "      <td>278914.00000</td>\n",
       "      <td>278914.000000</td>\n",
       "      <td>278914.000000</td>\n",
       "      <td>278914.0</td>\n",
       "      <td>278914.000000</td>\n",
       "      <td>278914.000000</td>\n",
       "      <td>278914.000000</td>\n",
       "    </tr>\n",
       "    <tr>\n",
       "      <th>mean</th>\n",
       "      <td>3.93332</td>\n",
       "      <td>0.310569</td>\n",
       "      <td>0.686097</td>\n",
       "      <td>6.0</td>\n",
       "      <td>13.621138</td>\n",
       "      <td>13.324778</td>\n",
       "      <td>27.515560</td>\n",
       "    </tr>\n",
       "    <tr>\n",
       "      <th>std</th>\n",
       "      <td>1.74183</td>\n",
       "      <td>0.462727</td>\n",
       "      <td>0.464078</td>\n",
       "      <td>0.0</td>\n",
       "      <td>1.401707</td>\n",
       "      <td>5.895587</td>\n",
       "      <td>17.265031</td>\n",
       "    </tr>\n",
       "    <tr>\n",
       "      <th>min</th>\n",
       "      <td>0.00000</td>\n",
       "      <td>0.000000</td>\n",
       "      <td>0.000000</td>\n",
       "      <td>6.0</td>\n",
       "      <td>11.000000</td>\n",
       "      <td>4.000000</td>\n",
       "      <td>0.000000</td>\n",
       "    </tr>\n",
       "    <tr>\n",
       "      <th>25%</th>\n",
       "      <td>3.00000</td>\n",
       "      <td>0.000000</td>\n",
       "      <td>0.000000</td>\n",
       "      <td>6.0</td>\n",
       "      <td>12.000000</td>\n",
       "      <td>8.000000</td>\n",
       "      <td>10.000000</td>\n",
       "    </tr>\n",
       "    <tr>\n",
       "      <th>50%</th>\n",
       "      <td>4.00000</td>\n",
       "      <td>0.000000</td>\n",
       "      <td>1.000000</td>\n",
       "      <td>6.0</td>\n",
       "      <td>14.000000</td>\n",
       "      <td>13.000000</td>\n",
       "      <td>30.000000</td>\n",
       "    </tr>\n",
       "    <tr>\n",
       "      <th>75%</th>\n",
       "      <td>5.00000</td>\n",
       "      <td>1.000000</td>\n",
       "      <td>1.000000</td>\n",
       "      <td>6.0</td>\n",
       "      <td>15.000000</td>\n",
       "      <td>19.000000</td>\n",
       "      <td>45.000000</td>\n",
       "    </tr>\n",
       "    <tr>\n",
       "      <th>max</th>\n",
       "      <td>6.00000</td>\n",
       "      <td>1.000000</td>\n",
       "      <td>1.000000</td>\n",
       "      <td>6.0</td>\n",
       "      <td>16.000000</td>\n",
       "      <td>23.000000</td>\n",
       "      <td>55.000000</td>\n",
       "    </tr>\n",
       "  </tbody>\n",
       "</table>\n",
       "</div>"
      ],
      "text/plain": [
       "        day_of_week        weekend    low_battery     month            day  \\\n",
       "count  278914.00000  278914.000000  278914.000000  278914.0  278914.000000   \n",
       "mean        3.93332       0.310569       0.686097       6.0      13.621138   \n",
       "std         1.74183       0.462727       0.464078       0.0       1.401707   \n",
       "min         0.00000       0.000000       0.000000       6.0      11.000000   \n",
       "25%         3.00000       0.000000       0.000000       6.0      12.000000   \n",
       "50%         4.00000       0.000000       1.000000       6.0      14.000000   \n",
       "75%         5.00000       1.000000       1.000000       6.0      15.000000   \n",
       "max         6.00000       1.000000       1.000000       6.0      16.000000   \n",
       "\n",
       "                hour         minute  \n",
       "count  278914.000000  278914.000000  \n",
       "mean       13.324778      27.515560  \n",
       "std         5.895587      17.265031  \n",
       "min         4.000000       0.000000  \n",
       "25%         8.000000      10.000000  \n",
       "50%        13.000000      30.000000  \n",
       "75%        19.000000      45.000000  \n",
       "max        23.000000      55.000000  "
      ]
     },
     "execution_count": 10,
     "metadata": {},
     "output_type": "execute_result"
    }
   ],
   "source": [
    "bird = pd.read_csv(\"bird_data-reformated.csv\")\n",
    "\n",
    "bird_filter = bird.query('hour >=21 | hour')\n",
    "bird.describe()"
   ]
  },
  {
   "cell_type": "code",
   "execution_count": 11,
   "metadata": {},
   "outputs": [
    {
     "data": {
      "image/png": "[encoded data removed]",
      "text/plain": [
       "<Figure size 864x720 with 9 Axes>"
      ]
     },
     "metadata": {
      "needs_background": "light"
     },
     "output_type": "display_data"
    }
   ],
   "source": [
    "# bird.plot(x='hour', y='n', style='o')  \n",
    "# plt.title('Hours vs total pickups')  \n",
    "# plt.xlabel('Hours')  \n",
    "# plt.ylabel('Total pickups')  \n",
    "# plt.show()  \n",
    "bird.hist(figsize = (12,10))\n",
    "plt.show()"
   ]
  },
  {
   "cell_type": "code",
   "execution_count": 12,
   "metadata": {},
   "outputs": [
    {
     "data": {
      "image/png": "[encoded data removed]",
      "text/plain": [
       "<Figure size 1080x1080 with 2 Axes>"
      ]
     },
     "metadata": {
      "needs_background": "light"
     },
     "output_type": "display_data"
    }
   ],
   "source": [
    "C_mat = bird.corr()\n",
    "fig = plt.figure(figsize = (15,15))\n",
    "\n",
    "sb.heatmap(C_mat, vmax = .8, square = True)\n",
    "plt.show()"
   ]
  },
  {
   "cell_type": "code",
   "execution_count": 18,
   "metadata": {},
   "outputs": [],
   "source": [
    "import pandas as pd\n",
    "\n",
    "bird = pd.read_csv(\"bird_data.csv\")"
   ]
  },
  {
   "cell_type": "code",
   "execution_count": 19,
   "metadata": {},
   "outputs": [],
   "source": [
    "from datetime import datetime\n",
    "\n",
    "bird['timestamp'] = bird['timestamp'].apply(lambda x:datetime.strptime(x,'%d-%b-%Y %H:%M:%S.%f').strftime('%Y-%m-%d %H:%M'))\n"
   ]
  },
  {
   "cell_type": "code",
   "execution_count": 20,
   "metadata": {},
   "outputs": [
    {
     "data": {
      "text/html": [
       "<div>\n",
       "<style scoped>\n",
       "    .dataframe tbody tr th:only-of-type {\n",
       "        vertical-align: middle;\n",
       "    }\n",
       "\n",
       "    .dataframe tbody tr th {\n",
       "        vertical-align: top;\n",
       "    }\n",
       "\n",
       "    .dataframe thead th {\n",
       "        text-align: right;\n",
       "    }\n",
       "</style>\n",
       "<table border=\"1\" class=\"dataframe\">\n",
       "  <thead>\n",
       "    <tr style=\"text-align: right;\">\n",
       "      <th></th>\n",
       "      <th>battery_level</th>\n",
       "      <th>bird_id</th>\n",
       "      <th>nest_id</th>\n",
       "      <th>latitude</th>\n",
       "      <th>longitude</th>\n",
       "      <th>timestamp</th>\n",
       "    </tr>\n",
       "  </thead>\n",
       "  <tbody>\n",
       "    <tr>\n",
       "      <th>0</th>\n",
       "      <td>63</td>\n",
       "      <td>3ffc1a8b-a939-4db4-82fa-bd44ee18d3a4</td>\n",
       "      <td>NaN</td>\n",
       "      <td>34.024433</td>\n",
       "      <td>-118.497040</td>\n",
       "      <td>2019-06-11 19:35</td>\n",
       "    </tr>\n",
       "    <tr>\n",
       "      <th>1</th>\n",
       "      <td>60</td>\n",
       "      <td>6137c185-4c43-4a4f-8c9c-d1be75954d4a</td>\n",
       "      <td>NaN</td>\n",
       "      <td>34.024403</td>\n",
       "      <td>-118.497245</td>\n",
       "      <td>2019-06-11 19:35</td>\n",
       "    </tr>\n",
       "    <tr>\n",
       "      <th>2</th>\n",
       "      <td>91</td>\n",
       "      <td>da84d4b4-d3a6-405b-8fef-21c04f31ca74</td>\n",
       "      <td>NaN</td>\n",
       "      <td>34.024963</td>\n",
       "      <td>-118.496048</td>\n",
       "      <td>2019-06-11 19:35</td>\n",
       "    </tr>\n",
       "    <tr>\n",
       "      <th>3</th>\n",
       "      <td>87</td>\n",
       "      <td>73f1e864-c9f9-41b4-8381-d06b12c54364</td>\n",
       "      <td>NaN</td>\n",
       "      <td>34.024591</td>\n",
       "      <td>-118.495383</td>\n",
       "      <td>2019-06-11 19:35</td>\n",
       "    </tr>\n",
       "    <tr>\n",
       "      <th>4</th>\n",
       "      <td>76</td>\n",
       "      <td>29b37932-e2db-41b6-a117-355b14d3791e</td>\n",
       "      <td>NaN</td>\n",
       "      <td>34.025197</td>\n",
       "      <td>-118.495996</td>\n",
       "      <td>2019-06-11 19:35</td>\n",
       "    </tr>\n",
       "  </tbody>\n",
       "</table>\n",
       "</div>"
      ],
      "text/plain": [
       "   battery_level                               bird_id nest_id   latitude  \\\n",
       "0             63  3ffc1a8b-a939-4db4-82fa-bd44ee18d3a4     NaN  34.024433   \n",
       "1             60  6137c185-4c43-4a4f-8c9c-d1be75954d4a     NaN  34.024403   \n",
       "2             91  da84d4b4-d3a6-405b-8fef-21c04f31ca74     NaN  34.024963   \n",
       "3             87  73f1e864-c9f9-41b4-8381-d06b12c54364     NaN  34.024591   \n",
       "4             76  29b37932-e2db-41b6-a117-355b14d3791e     NaN  34.025197   \n",
       "\n",
       "    longitude         timestamp  \n",
       "0 -118.497040  2019-06-11 19:35  \n",
       "1 -118.497245  2019-06-11 19:35  \n",
       "2 -118.496048  2019-06-11 19:35  \n",
       "3 -118.495383  2019-06-11 19:35  \n",
       "4 -118.495996  2019-06-11 19:35  "
      ]
     },
     "execution_count": 20,
     "metadata": {},
     "output_type": "execute_result"
    }
   ],
   "source": [
    "bird.head()"
   ]
  },
  {
   "cell_type": "code",
   "execution_count": 21,
   "metadata": {},
   "outputs": [],
   "source": [
    "bird.to_csv(\"kepler-bird.csv\", index=None)"
   ]
  },
  {
   "cell_type": "code",
   "execution_count": null,
   "metadata": {},
   "outputs": [],
   "source": []
  }
 ],
 "metadata": {
  "kernelspec": {
   "display_name": "Python 3",
   "language": "python",
   "name": "python3"
  },
  "language_info": {
   "codemirror_mode": {
    "name": "ipython",
    "version": 3
   },
   "file_extension": ".py",
   "mimetype": "text/x-python",
   "name": "python",
   "nbconvert_exporter": "python",
   "pygments_lexer": "ipython3",
   "version": "3.6.8"
  }
 },
 "nbformat": 4,
 "nbformat_minor": 2
}
