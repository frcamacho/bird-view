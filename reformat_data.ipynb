{
 "cells": [
  {
   "cell_type": "code",
   "execution_count": 10,
   "metadata": {},
   "outputs": [],
   "source": [
    "import pandas as pd \n",
    "import numpy as np\n",
    "import pygeohash as gh\n",
    "import datetime\n",
    "\n",
    "df = pd.read_csv('bird_data.csv')\n",
    "df['geohash']= df.apply(lambda x: gh.encode(x.latitude, x.longitude, precision=6), axis=1) # 12 block radius # changed from 8 \n",
    "\n"
   ]
  },
  {
   "cell_type": "code",
   "execution_count": 11,
   "metadata": {},
   "outputs": [],
   "source": [
    "#find the day of the week \n",
    "df['day_of_week'] = df['timestamp'].apply(lambda x:datetime.datetime.strptime(x,'%d-%b-%Y %H:%M:%S.%f').strftime('%w'))"
   ]
  },
  {
   "cell_type": "code",
   "execution_count": 12,
   "metadata": {},
   "outputs": [],
   "source": [
    "df[\"day_of_week\"] = pd.to_numeric(df[\"day_of_week\"]) # convert to numeric \n",
    "df['weekend'] = df['day_of_week'].apply(lambda x: 1 if x == 0 or x == 6 else 0) # create weekend variable\n",
    "df['low_battery'] = np.where(df['battery_level'] <= 90, 1, 0) # find low battery scooters "
   ]
  },
  {
   "cell_type": "code",
   "execution_count": 13,
   "metadata": {},
   "outputs": [],
   "source": [
    "# convert string to datetime string for parsing out the month, hour, and other times \n",
    "df.timestamp = pd.to_datetime(df.timestamp, format='%d-%b-%Y %H:%M:%S.%f')\n",
    "df['month'] = df.timestamp.apply(lambda x: x.month)\n",
    "df['day'] = df.timestamp.apply(lambda x: x.day)\n",
    "df['hour'] = df.timestamp.apply(lambda x: x.hour)\n",
    "df['minute'] = df.timestamp.apply(lambda x: x.minute)"
   ]
  },
  {
   "cell_type": "code",
   "execution_count": 14,
   "metadata": {},
   "outputs": [],
   "source": [
    "#select columns for df \n",
    "bird_df = df[['bird_id','geohash', 'day_of_week', 'weekend', 'low_battery', 'month', 'day', 'hour', 'minute']]"
   ]
  },
  {
   "cell_type": "code",
   "execution_count": 15,
   "metadata": {},
   "outputs": [
    {
     "data": {
      "text/html": [
       "<div>\n",
       "<style scoped>\n",
       "    .dataframe tbody tr th:only-of-type {\n",
       "        vertical-align: middle;\n",
       "    }\n",
       "\n",
       "    .dataframe tbody tr th {\n",
       "        vertical-align: top;\n",
       "    }\n",
       "\n",
       "    .dataframe thead th {\n",
       "        text-align: right;\n",
       "    }\n",
       "</style>\n",
       "<table border=\"1\" class=\"dataframe\">\n",
       "  <thead>\n",
       "    <tr style=\"text-align: right;\">\n",
       "      <th></th>\n",
       "      <th>bird_id</th>\n",
       "      <th>geohash</th>\n",
       "      <th>day_of_week</th>\n",
       "      <th>weekend</th>\n",
       "      <th>low_battery</th>\n",
       "      <th>month</th>\n",
       "      <th>day</th>\n",
       "      <th>hour</th>\n",
       "      <th>minute</th>\n",
       "    </tr>\n",
       "  </thead>\n",
       "  <tbody>\n",
       "    <tr>\n",
       "      <th>0</th>\n",
       "      <td>3ffc1a8b-a939-4db4-82fa-bd44ee18d3a4</td>\n",
       "      <td>9q59x9</td>\n",
       "      <td>2</td>\n",
       "      <td>0</td>\n",
       "      <td>1</td>\n",
       "      <td>6</td>\n",
       "      <td>11</td>\n",
       "      <td>19</td>\n",
       "      <td>35</td>\n",
       "    </tr>\n",
       "    <tr>\n",
       "      <th>1</th>\n",
       "      <td>6137c185-4c43-4a4f-8c9c-d1be75954d4a</td>\n",
       "      <td>9q59x9</td>\n",
       "      <td>2</td>\n",
       "      <td>0</td>\n",
       "      <td>1</td>\n",
       "      <td>6</td>\n",
       "      <td>11</td>\n",
       "      <td>19</td>\n",
       "      <td>35</td>\n",
       "    </tr>\n",
       "    <tr>\n",
       "      <th>2</th>\n",
       "      <td>da84d4b4-d3a6-405b-8fef-21c04f31ca74</td>\n",
       "      <td>9q59xd</td>\n",
       "      <td>2</td>\n",
       "      <td>0</td>\n",
       "      <td>0</td>\n",
       "      <td>6</td>\n",
       "      <td>11</td>\n",
       "      <td>19</td>\n",
       "      <td>35</td>\n",
       "    </tr>\n",
       "    <tr>\n",
       "      <th>3</th>\n",
       "      <td>73f1e864-c9f9-41b4-8381-d06b12c54364</td>\n",
       "      <td>9q59x9</td>\n",
       "      <td>2</td>\n",
       "      <td>0</td>\n",
       "      <td>1</td>\n",
       "      <td>6</td>\n",
       "      <td>11</td>\n",
       "      <td>19</td>\n",
       "      <td>35</td>\n",
       "    </tr>\n",
       "    <tr>\n",
       "      <th>4</th>\n",
       "      <td>29b37932-e2db-41b6-a117-355b14d3791e</td>\n",
       "      <td>9q59xd</td>\n",
       "      <td>2</td>\n",
       "      <td>0</td>\n",
       "      <td>1</td>\n",
       "      <td>6</td>\n",
       "      <td>11</td>\n",
       "      <td>19</td>\n",
       "      <td>35</td>\n",
       "    </tr>\n",
       "  </tbody>\n",
       "</table>\n",
       "</div>"
      ],
      "text/plain": [
       "                                bird_id geohash  day_of_week  weekend  \\\n",
       "0  3ffc1a8b-a939-4db4-82fa-bd44ee18d3a4  9q59x9            2        0   \n",
       "1  6137c185-4c43-4a4f-8c9c-d1be75954d4a  9q59x9            2        0   \n",
       "2  da84d4b4-d3a6-405b-8fef-21c04f31ca74  9q59xd            2        0   \n",
       "3  73f1e864-c9f9-41b4-8381-d06b12c54364  9q59x9            2        0   \n",
       "4  29b37932-e2db-41b6-a117-355b14d3791e  9q59xd            2        0   \n",
       "\n",
       "   low_battery  month  day  hour  minute  \n",
       "0            1      6   11    19      35  \n",
       "1            1      6   11    19      35  \n",
       "2            0      6   11    19      35  \n",
       "3            1      6   11    19      35  \n",
       "4            1      6   11    19      35  "
      ]
     },
     "execution_count": 15,
     "metadata": {},
     "output_type": "execute_result"
    }
   ],
   "source": [
    "bird_df.head()"
   ]
  },
  {
   "cell_type": "code",
   "execution_count": 16,
   "metadata": {},
   "outputs": [],
   "source": [
    "bird_df.to_csv(\"bird_data-reformated.csv\", index = None, header=True)"
   ]
  },
  {
   "cell_type": "code",
   "execution_count": 17,
   "metadata": {},
   "outputs": [],
   "source": [
    "from rpy2.robjects.vectors import StrVector\n",
    "import rpy2.robjects.packages as rpackages\n",
    "import rpy2.robjects as robjects\n",
    "\n",
    "def create_scooter_counts(data):\n",
    "    base = rpackages.importr('base')\n",
    "    packageNames = ('tidyverse')\n",
    "    utils = rpackages.importr('utils')\n",
    "    utils.chooseCRANmirror(ind=1)\n",
    "\n",
    "    packnames_to_install = [x for x in packageNames if not rpackages.isinstalled(x)]\n",
    "\n",
    "    if len(packnames_to_install) > 0:\n",
    "        utils.install_packages(StrVector(packnames_to_install))\n",
    "    tidyverse = rpackages.importr('tidyverse')\n",
    "    robjects.r['options'](warn=-1)\n",
    "    create_file = robjects.r('''\n",
    "        function(results_file) {\n",
    "            df <- read_csv(results_file, col_names = T)\n",
    "            nightly_pick_up <- df  %>% filter(hour >= 21 & hour <= 23)  %>% filter(low_battery != 0)# filter by 9PM -11:55PM data \n",
    "            scooter_counts <- nightly_pick_up %>% group_by(geohash, day_of_week, weekend, day, hour, minute) %>% count() %>% arrange(desc(n)) %>% ungroup()\n",
    "            write_csv(scooter_counts, \"bird_data_pickups.csv\", col_names = T)\n",
    "\n",
    "        }\n",
    "        ''')\n",
    "\n",
    "    create_file(data)"
   ]
  },
  {
   "cell_type": "code",
   "execution_count": 18,
   "metadata": {},
   "outputs": [
    {
     "name": "stderr",
     "output_type": "stream",
     "text": [
      "R[write to console]: Parsed with column specification:\n",
      "cols(\n",
      "  bird_id = col_character(),\n",
      "  geohash = col_character(),\n",
      "  day_of_week = col_integer(),\n",
      "  weekend = col_integer(),\n",
      "  low_battery = col_integer(),\n",
      "  month = col_integer(),\n",
      "  day = col_integer(),\n",
      "  hour = col_integer(),\n",
      "  minute = col_integer()\n",
      ")\n",
      "\n"
     ]
    }
   ],
   "source": [
    "create_scooter_counts(\"bird_data-reformated.csv\") # make count data "
   ]
  },
  {
   "cell_type": "code",
   "execution_count": null,
   "metadata": {},
   "outputs": [],
   "source": []
  }
 ],
 "metadata": {
  "kernelspec": {
   "display_name": "Python 3",
   "language": "python",
   "name": "python3"
  },
  "language_info": {
   "codemirror_mode": {
    "name": "ipython",
    "version": 3
   },
   "file_extension": ".py",
   "mimetype": "text/x-python",
   "name": "python",
   "nbconvert_exporter": "python",
   "pygments_lexer": "ipython3",
   "version": "3.6.8"
  }
 },
 "nbformat": 4,
 "nbformat_minor": 2
}
