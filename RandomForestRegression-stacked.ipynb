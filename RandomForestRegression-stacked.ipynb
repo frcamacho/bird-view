{
 "cells": [
  {
   "cell_type": "code",
   "execution_count": 30,
   "metadata": {},
   "outputs": [],
   "source": [
    "import pandas as pd \n",
    "import numpy as np\n",
    "import pygeohash as gh\n",
    "import datetime\n",
    "\n",
    "df = pd.read_csv('bird_data.csv')\n",
    "df['geohash']= df.apply(lambda x: gh.encode(x.latitude, x.longitude, precision=6), axis=1) # 12 block radius # changed from 8 \n"
   ]
  },
  {
   "cell_type": "code",
   "execution_count": 31,
   "metadata": {},
   "outputs": [],
   "source": [
    "#find the day of the week \n",
    "df['day_of_week'] = df['timestamp'].apply(lambda x:datetime.datetime.strptime(x,'%d-%b-%Y %H:%M:%S.%f').strftime('%w'))"
   ]
  },
  {
   "cell_type": "code",
   "execution_count": 32,
   "metadata": {},
   "outputs": [],
   "source": [
    "df[\"day_of_week\"] = pd.to_numeric(df[\"day_of_week\"]) # convert to numeric \n",
    "df['weekend'] = df['day_of_week'].apply(lambda x: 1 if x < 1 or x > 4 else 0) # create weekend variable\n",
    "df['low_battery'] = np.where(df['battery_level'] <= 90, 1, 0) # find low battery scooters "
   ]
  },
  {
   "cell_type": "code",
   "execution_count": 33,
   "metadata": {},
   "outputs": [],
   "source": [
    "# convert string to datetime string for parsing out the month, hour, and other times \n",
    "df.timestamp = pd.to_datetime(df.timestamp, format='%d-%b-%Y %H:%M:%S.%f')\n",
    "df['month'] = df.timestamp.apply(lambda x: x.month)\n",
    "df['day'] = df.timestamp.apply(lambda x: x.day)\n",
    "df['hour'] = df.timestamp.apply(lambda x: x.hour)\n",
    "df['minute'] = df.timestamp.apply(lambda x: x.minute)"
   ]
  },
  {
   "cell_type": "code",
   "execution_count": 11,
   "metadata": {},
   "outputs": [],
   "source": [
    "#select columns for df \n",
    "bird_df = df[['bird_id','geohash', 'day_of_week', 'weekend', 'low_battery', 'month', 'day', 'hour', 'minute']]\n",
    "bird_df.to_csv(\"bird_data-reformated-2.csv\", index = None, header=True)"
   ]
  },
  {
   "cell_type": "code",
   "execution_count": 2,
   "metadata": {},
   "outputs": [],
   "source": [
    "# from rpy2.robjects.vectors import StrVector\n",
    "# import rpy2.robjects.packages as rpackages\n",
    "# import rpy2.robjects as robjects\n",
    "\n",
    "# def create_scooter_counts(data):\n",
    "#     base = rpackages.importr('base')\n",
    "#     packageNames = ('tidyverse')\n",
    "#     utils = rpackages.importr('utils')\n",
    "#     utils.chooseCRANmirror(ind=1)\n",
    "\n",
    "#     packnames_to_install = [x for x in packageNames if not rpackages.isinstalled(x)]\n",
    "\n",
    "#     if len(packnames_to_install) > 0:\n",
    "#         utils.install_packages(StrVector(packnames_to_install))\n",
    "#     tidyverse = rpackages.importr('tidyverse')\n",
    "#     robjects.r['options'](warn=-1)\n",
    "#     create_file = robjects.r('''\n",
    "#         function(results_file) {\n",
    "#             df <- read_csv(results_file, col_names = T)\n",
    "#             nightly_pick_up <- df  %>% filter(hour >= 21 & hour <= 23)  %>% filter(low_battery != 0)# filter by 9PM -11:55PM data \n",
    "#             #scooter_counts <- nightly_pick_up %>% group_by(geohash, day_of_week, weekend, day, hour, minute) %>% count() %>% arrange(desc(n)) %>% ungroup()\n",
    "#             scooter_counts <- nightly_pick_up %>% group_by(geohash, weekend, day, hour, minute) %>% count() %>% arrange(desc(n)) %>% ungroup()\n",
    "#             write_csv(scooter_counts, \"bird_data_pickups-2.csv\", col_names = T)\n",
    "#             }\n",
    "#         ''')\n",
    "\n",
    "#     create_file(data)"
   ]
  },
  {
   "cell_type": "code",
   "execution_count": null,
   "metadata": {},
   "outputs": [],
   "source": [
    "# create_scooter_counts(\"bird_data-reformated-2.csv\") # ma"
   ]
  },
  {
   "cell_type": "code",
   "execution_count": 34,
   "metadata": {},
   "outputs": [],
   "source": [
    "# libraries for model \n",
    "%matplotlib inline\n",
    "import numpy as np\n",
    "import matplotlib.pyplot as plt\n",
    "import pandas as pd\n",
    "import seaborn as sns\n",
    "from sklearn.model_selection import GridSearchCV\n",
    "from sklearn.model_selection import train_test_split\n",
    "from sklearn.metrics import confusion_matrix\n",
    "from sklearn.ensemble import RandomForestRegressor\n",
    "from sklearn.model_selection import cross_val_score\n",
    "import geohash\n",
    "from sklearn.metrics import mean_squared_error"
   ]
  },
  {
   "cell_type": "code",
   "execution_count": 57,
   "metadata": {},
   "outputs": [],
   "source": [
    "# Funtion for cross-validation over a grid of parameters\n",
    "\n",
    "def cv_optimize(clf, parameters, X, y, n_jobs=1, n_folds=None, score_func=None, verbose=0):\n",
    "    if score_func:\n",
    "        gs = GridSearchCV(clf, param_grid=parameters, cv=n_folds, n_jobs=n_jobs, scoring=score_func, verbose=verbose)\n",
    "    else:\n",
    "        gs = GridSearchCV(clf, param_grid=parameters, n_jobs=n_jobs, cv=n_folds, verbose=verbose)\n",
    "    gs.fit(X, y)\n",
    "    print (\"BEST\", gs.best_params_, gs.best_score_, gs.cv_results_, gs.scorer_)\n",
    "    print (\"Best score: \", gs.best_score_)\n",
    "    best = gs.best_estimator_\n",
    "    return best"
   ]
  },
  {
   "cell_type": "code",
   "execution_count": 80,
   "metadata": {},
   "outputs": [
    {
     "data": {
      "text/plain": [
       "'9q59x8'"
      ]
     },
     "execution_count": 80,
     "metadata": {},
     "output_type": "execute_result"
    }
   ],
   "source": [
    "bird = pd.read_csv(\"bird_data_pickups-2.csv\")\n",
    "bird = bird.drop(['day'], axis=1)\n",
    "bird.head()"
   ]
  },
  {
   "cell_type": "code",
   "execution_count": 40,
   "metadata": {},
   "outputs": [],
   "source": [
    "#split dataset in features and target variable\n",
    "feature_cols = [ 'geohash', 'weekend','hour','minute'] # remove 'geohash'\n",
    "X = bird[feature_cols] # Features\n",
    "y = bird.n # Target variable"
   ]
  },
  {
   "cell_type": "code",
   "execution_count": 41,
   "metadata": {},
   "outputs": [],
   "source": [
    "# Get the longitude and latitude from the geohash\n",
    "def decodegeo(geo, which):\n",
    "    if len(geo) >= 6:\n",
    "        geodecoded = geohash.decode(geo)\n",
    "        return geodecoded[which]\n",
    "    else:\n",
    "        return 0\n",
    "X['latitude'] = X['geohash'].apply(lambda geo: decodegeo(geo, 0))\n",
    "X['longitude'] = X['geohash'].apply(lambda geo: decodegeo(geo, 1))\n",
    "X = X.drop(['geohash'], axis=1)"
   ]
  },
  {
   "cell_type": "code",
   "execution_count": 70,
   "metadata": {},
   "outputs": [
    {
     "name": "stdout",
     "output_type": "stream",
     "text": [
      "34.02191162109375\n",
      "-118.4930419921875\n"
     ]
    }
   ],
   "source": [
    "print(decodegeo('9q59x9', 0))\n",
    "print(decodegeo('9q59x9', 1))"
   ]
  },
  {
   "cell_type": "code",
   "execution_count": 42,
   "metadata": {},
   "outputs": [],
   "source": [
    "from sklearn.model_selection import train_test_split\n",
    "X_train,X_test,y_train,y_test=train_test_split(X,y,test_size=0.20,random_state=917)"
   ]
  },
  {
   "cell_type": "code",
   "execution_count": 74,
   "metadata": {},
   "outputs": [
    {
     "data": {
      "text/plain": [
       "0"
      ]
     },
     "execution_count": 74,
     "metadata": {},
     "output_type": "execute_result"
    }
   ],
   "source": [
    "print(X_train.head())\n",
    "print(X_test.head())"
   ]
  },
  {
   "cell_type": "code",
   "execution_count": 44,
   "metadata": {},
   "outputs": [],
   "source": [
    "# Create a Random Forest Regression estimator\n",
    "estimator = RandomForestRegressor(n_estimators=20, n_jobs=-1)"
   ]
  },
  {
   "cell_type": "code",
   "execution_count": 59,
   "metadata": {},
   "outputs": [
    {
     "name": "stderr",
     "output_type": "stream",
     "text": [
      "//anaconda/envs/bird_view/lib/python3.6/site-packages/sklearn/model_selection/_split.py:1978: FutureWarning: The default value of cv will change from 3 to 5 in version 0.22. Specify it explicitly to silence this warning.\n",
      "  warnings.warn(CV_WARNING, FutureWarning)\n"
     ]
    },
    {
     "name": "stdout",
     "output_type": "stream",
     "text": [
      "BEST {'max_depth': 3, 'max_features': 'auto', 'n_estimators': 10} -5.718682953884417 {'mean_fit_time': array([0.02232671]), 'std_fit_time': array([0.00501237]), 'mean_score_time': array([0.10671798]), 'std_score_time': array([0.00203626]), 'param_max_depth': masked_array(data=[3],\n",
      "             mask=[False],\n",
      "       fill_value='?',\n",
      "            dtype=object), 'param_max_features': masked_array(data=['auto'],\n",
      "             mask=[False],\n",
      "       fill_value='?',\n",
      "            dtype=object), 'param_n_estimators': masked_array(data=[10],\n",
      "             mask=[False],\n",
      "       fill_value='?',\n",
      "            dtype=object), 'params': [{'max_depth': 3, 'max_features': 'auto', 'n_estimators': 10}], 'split0_test_score': array([-5.7559902]), 'split1_test_score': array([-5.73943492]), 'split2_test_score': array([-5.66048418]), 'mean_test_score': array([-5.71868295]), 'std_test_score': array([0.04165578]), 'rank_test_score': array([1], dtype=int32)} make_scorer(mean_absolute_error, greater_is_better=False)\n",
      "Best score:  -5.718682953884417\n"
     ]
    }
   ],
   "source": [
    "# Define a grid of parameters over which to optimize the random forest\n",
    "# We will figure out which number of trees is optimal\n",
    "parameters = {\"n_estimators\": [10],\n",
    "              \"max_features\": [\"auto\"], # [\"auto\",\"sqrt\",\"log2\"]\n",
    "              \"max_depth\": [3]}\n",
    "best = cv_optimize(estimator, parameters, X_train, y_train, score_func='neg_mean_absolute_error')\n",
    "\n",
    "#n_folds=5"
   ]
  },
  {
   "cell_type": "code",
   "execution_count": 61,
   "metadata": {},
   "outputs": [
    {
     "name": "stdout",
     "output_type": "stream",
     "text": [
      "############# based on standard predict ################\n",
      "R^2 on training data: 0.7628\n",
      "R^2 on test data:     0.7632\n"
     ]
    }
   ],
   "source": [
    "# Fit the best Random Forest and calculate R^2 values for training and test sets\n",
    "reg=best.fit(X_train, y_train)\n",
    "training_accuracy = reg.score(X_train, y_train)\n",
    "test_accuracy = reg.score(X_test, y_test)\n",
    "print( \"############# based on standard predict ################\")\n",
    "print (\"R^2 on training data: %0.4f\" % (training_accuracy))\n",
    "print (\"R^2 on test data:     %0.4f\" % (test_accuracy))"
   ]
  },
  {
   "cell_type": "code",
   "execution_count": 62,
   "metadata": {},
   "outputs": [
    {
     "data": {
      "text/plain": [
       "array([[ 1.8693843 ,  2.        ],\n",
       "       [ 1.92752764,  3.        ],\n",
       "       [21.93313662, 22.        ],\n",
       "       [ 1.        ,  1.        ],\n",
       "       [39.30918874, 35.        ],\n",
       "       [39.30918874, 34.        ],\n",
       "       [39.30918874, 33.        ],\n",
       "       [39.30918874, 38.        ],\n",
       "       [39.30918874, 37.        ],\n",
       "       [ 1.94465367,  3.        ],\n",
       "       [39.30918874, 33.        ],\n",
       "       [39.30918874, 43.        ],\n",
       "       [21.93313662, 23.        ],\n",
       "       [21.93313662,  5.        ],\n",
       "       [21.93313662, 21.        ],\n",
       "       [21.93313662, 15.        ],\n",
       "       [21.93313662, 30.        ],\n",
       "       [39.30918874, 19.        ],\n",
       "       [21.93313662, 21.        ],\n",
       "       [39.30918874, 40.        ],\n",
       "       [39.30918874, 41.        ],\n",
       "       [21.93313662, 29.        ],\n",
       "       [ 2.19843702,  4.        ],\n",
       "       [21.93313662, 27.        ],\n",
       "       [21.93313662, 22.        ],\n",
       "       [21.93313662, 26.        ],\n",
       "       [ 7.48437554,  9.        ],\n",
       "       [21.93313662, 31.        ],\n",
       "       [21.93313662, 22.        ],\n",
       "       [21.93313662, 11.        ],\n",
       "       [ 7.48437554, 10.        ],\n",
       "       [ 7.48437554, 12.        ],\n",
       "       [39.30918874, 32.        ],\n",
       "       [21.93313662, 25.        ],\n",
       "       [39.30918874, 34.        ],\n",
       "       [21.93313662, 23.        ],\n",
       "       [21.93313662, 20.        ],\n",
       "       [39.30918874, 60.        ],\n",
       "       [ 7.48437554,  8.        ],\n",
       "       [ 5.1284157 ,  9.        ],\n",
       "       [21.93313662, 34.        ],\n",
       "       [ 1.        ,  1.        ],\n",
       "       [39.30918874, 56.        ],\n",
       "       [39.30918874, 34.        ],\n",
       "       [ 2.19843702,  5.        ],\n",
       "       [21.93313662, 26.        ],\n",
       "       [ 1.        ,  1.        ],\n",
       "       [ 2.25534408,  4.        ],\n",
       "       [39.30918874, 42.        ],\n",
       "       [39.30918874, 36.        ],\n",
       "       [39.30918874, 24.        ],\n",
       "       [39.30918874, 35.        ],\n",
       "       [ 7.48437554,  2.        ],\n",
       "       [21.93313662, 21.        ],\n",
       "       [39.30918874, 31.        ],\n",
       "       [39.30918874, 48.        ],\n",
       "       [39.30918874, 37.        ],\n",
       "       [21.93313662, 27.        ],\n",
       "       [ 1.96336637,  1.        ],\n",
       "       [21.93313662, 15.        ],\n",
       "       [39.30918874, 42.        ],\n",
       "       [ 5.1284157 ,  5.        ],\n",
       "       [39.30918874, 34.        ],\n",
       "       [39.30918874, 22.        ],\n",
       "       [21.93313662, 26.        ],\n",
       "       [ 1.        ,  1.        ],\n",
       "       [21.93313662, 27.        ],\n",
       "       [ 7.48437554, 11.        ],\n",
       "       [ 7.48437554, 12.        ],\n",
       "       [39.30918874, 38.        ],\n",
       "       [21.93313662, 32.        ],\n",
       "       [ 7.48437554, 10.        ],\n",
       "       [ 1.        ,  1.        ],\n",
       "       [21.93313662, 30.        ],\n",
       "       [ 1.        ,  1.        ],\n",
       "       [21.93313662, 30.        ],\n",
       "       [ 5.1284157 ,  4.        ],\n",
       "       [21.93313662, 30.        ],\n",
       "       [ 1.        ,  1.        ],\n",
       "       [39.30918874, 38.        ],\n",
       "       [ 2.19843702,  1.        ],\n",
       "       [21.93313662, 21.        ],\n",
       "       [ 2.26079546,  4.        ],\n",
       "       [21.93313662, 33.        ],\n",
       "       [39.30918874, 26.        ],\n",
       "       [21.93313662, 26.        ],\n",
       "       [21.93313662, 30.        ],\n",
       "       [21.93313662, 27.        ],\n",
       "       [21.93313662, 19.        ],\n",
       "       [ 7.48437554,  7.        ],\n",
       "       [21.93313662, 15.        ],\n",
       "       [ 1.95052273,  3.        ],\n",
       "       [ 2.23780037,  4.        ],\n",
       "       [21.93313662, 32.        ],\n",
       "       [39.30918874, 30.        ],\n",
       "       [21.93313662, 26.        ],\n",
       "       [ 1.95052273,  3.        ],\n",
       "       [39.30918874, 39.        ],\n",
       "       [ 1.9844347 ,  1.        ],\n",
       "       [39.30918874, 58.        ],\n",
       "       [21.93313662, 15.        ],\n",
       "       [ 7.48437554,  4.        ],\n",
       "       [39.30918874, 35.        ],\n",
       "       [ 7.48437554,  3.        ],\n",
       "       [21.93313662, 21.        ],\n",
       "       [39.30918874, 34.        ],\n",
       "       [39.30918874, 42.        ],\n",
       "       [21.93313662, 26.        ],\n",
       "       [ 2.19843702,  1.        ],\n",
       "       [ 1.92752764,  3.        ],\n",
       "       [21.93313662,  7.        ],\n",
       "       [21.93313662, 12.        ],\n",
       "       [21.93313662, 28.        ],\n",
       "       [ 7.48437554,  7.        ],\n",
       "       [21.93313662, 24.        ],\n",
       "       [21.93313662, 30.        ],\n",
       "       [39.30918874, 43.        ],\n",
       "       [ 7.48437554, 10.        ],\n",
       "       [ 7.48437554,  5.        ],\n",
       "       [39.30918874, 60.        ],\n",
       "       [ 7.48437554, 13.        ],\n",
       "       [21.93313662, 30.        ],\n",
       "       [ 1.98636146,  4.        ],\n",
       "       [39.30918874, 46.        ],\n",
       "       [ 7.48437554,  9.        ],\n",
       "       [39.30918874, 20.        ],\n",
       "       [21.93313662, 26.        ],\n",
       "       [ 7.48437554,  9.        ],\n",
       "       [39.30918874, 36.        ],\n",
       "       [ 2.25534408,  1.        ],\n",
       "       [39.30918874, 45.        ],\n",
       "       [ 1.8693843 ,  2.        ],\n",
       "       [39.30918874, 35.        ],\n",
       "       [21.93313662, 22.        ],\n",
       "       [ 2.19843702,  5.        ],\n",
       "       [21.93313662, 14.        ],\n",
       "       [ 7.48437554, 11.        ],\n",
       "       [21.93313662, 25.        ],\n",
       "       [ 1.        ,  1.        ],\n",
       "       [21.93313662, 15.        ],\n",
       "       [ 7.48437554, 11.        ],\n",
       "       [39.30918874, 57.        ],\n",
       "       [39.30918874, 41.        ],\n",
       "       [21.93313662, 27.        ],\n",
       "       [ 7.48437554, 10.        ],\n",
       "       [21.93313662, 23.        ],\n",
       "       [ 7.48437554,  2.        ],\n",
       "       [ 1.9844347 ,  1.        ],\n",
       "       [39.30918874, 40.        ],\n",
       "       [21.93313662, 27.        ],\n",
       "       [ 1.92752764,  3.        ],\n",
       "       [21.93313662, 31.        ],\n",
       "       [21.93313662, 16.        ],\n",
       "       [39.30918874, 35.        ],\n",
       "       [ 7.48437554, 11.        ],\n",
       "       [21.93313662, 28.        ],\n",
       "       [21.93313662,  7.        ],\n",
       "       [ 2.19843702,  4.        ],\n",
       "       [39.30918874, 39.        ],\n",
       "       [39.30918874, 34.        ],\n",
       "       [21.93313662,  7.        ],\n",
       "       [21.93313662, 26.        ],\n",
       "       [ 7.48437554,  9.        ],\n",
       "       [21.93313662, 22.        ],\n",
       "       [39.30918874, 38.        ],\n",
       "       [39.30918874, 39.        ],\n",
       "       [21.93313662, 31.        ],\n",
       "       [39.30918874, 36.        ],\n",
       "       [ 5.1284157 ,  7.        ],\n",
       "       [21.93313662, 31.        ],\n",
       "       [ 7.48437554,  8.        ],\n",
       "       [ 1.98988608,  3.        ],\n",
       "       [39.30918874, 37.        ],\n",
       "       [ 2.22143211,  4.        ],\n",
       "       [ 5.1284157 ,  2.        ],\n",
       "       [21.93313662, 23.        ],\n",
       "       [39.30918874, 44.        ],\n",
       "       [21.93313662, 27.        ],\n",
       "       [21.93313662, 13.        ],\n",
       "       [39.30918874, 34.        ],\n",
       "       [ 2.19843702,  4.        ],\n",
       "       [21.93313662, 22.        ],\n",
       "       [21.93313662, 25.        ],\n",
       "       [21.93313662, 26.        ],\n",
       "       [39.30918874, 34.        ],\n",
       "       [21.93313662, 13.        ],\n",
       "       [39.30918874, 25.        ],\n",
       "       [39.30918874, 38.        ],\n",
       "       [21.93313662, 27.        ],\n",
       "       [39.30918874, 38.        ],\n",
       "       [21.93313662, 33.        ],\n",
       "       [21.93313662, 28.        ],\n",
       "       [39.30918874, 75.        ],\n",
       "       [ 7.48437554,  9.        ],\n",
       "       [39.30918874, 34.        ],\n",
       "       [ 1.90522303,  3.        ],\n",
       "       [21.93313662, 22.        ],\n",
       "       [21.93313662, 23.        ],\n",
       "       [39.30918874, 39.        ],\n",
       "       [21.93313662, 11.        ],\n",
       "       [39.30918874, 46.        ],\n",
       "       [ 1.        ,  1.        ],\n",
       "       [39.30918874, 34.        ],\n",
       "       [ 1.9844347 ,  1.        ],\n",
       "       [39.30918874, 26.        ],\n",
       "       [ 7.48437554, 11.        ],\n",
       "       [39.30918874, 27.        ],\n",
       "       [21.93313662, 30.        ],\n",
       "       [39.30918874, 36.        ],\n",
       "       [39.30918874, 40.        ],\n",
       "       [21.93313662, 29.        ],\n",
       "       [39.30918874, 38.        ],\n",
       "       [ 1.8693843 ,  1.        ],\n",
       "       [39.30918874, 36.        ],\n",
       "       [39.30918874, 38.        ],\n",
       "       [39.30918874, 37.        ],\n",
       "       [21.93313662, 22.        ],\n",
       "       [21.93313662, 21.        ],\n",
       "       [39.30918874, 32.        ],\n",
       "       [ 5.1284157 ,  4.        ],\n",
       "       [ 1.8693843 ,  1.        ],\n",
       "       [ 1.96336637,  1.        ],\n",
       "       [21.93313662, 28.        ],\n",
       "       [39.30918874, 23.        ],\n",
       "       [39.30918874, 56.        ],\n",
       "       [21.93313662, 25.        ],\n",
       "       [ 1.8693843 ,  2.        ],\n",
       "       [39.30918874, 44.        ],\n",
       "       [21.93313662, 20.        ],\n",
       "       [21.93313662,  9.        ],\n",
       "       [21.93313662, 15.        ],\n",
       "       [ 7.48437554,  2.        ],\n",
       "       [21.93313662, 10.        ],\n",
       "       [39.30918874, 70.        ],\n",
       "       [39.30918874, 40.        ],\n",
       "       [39.30918874, 43.        ],\n",
       "       [21.93313662, 28.        ],\n",
       "       [39.30918874, 35.        ],\n",
       "       [21.93313662, 23.        ],\n",
       "       [ 1.8693843 ,  2.        ],\n",
       "       [ 7.48437554,  3.        ],\n",
       "       [39.30918874, 30.        ],\n",
       "       [39.30918874, 34.        ],\n",
       "       [21.93313662, 22.        ],\n",
       "       [21.93313662, 13.        ],\n",
       "       [39.30918874, 60.        ],\n",
       "       [21.93313662, 22.        ],\n",
       "       [21.93313662, 33.        ],\n",
       "       [ 1.8693843 ,  1.        ],\n",
       "       [21.93313662,  7.        ],\n",
       "       [39.30918874, 39.        ],\n",
       "       [21.93313662, 24.        ],\n",
       "       [39.30918874, 34.        ],\n",
       "       [21.93313662, 23.        ],\n",
       "       [39.30918874, 38.        ],\n",
       "       [21.93313662, 28.        ],\n",
       "       [39.30918874, 39.        ],\n",
       "       [39.30918874, 37.        ],\n",
       "       [21.93313662, 25.        ],\n",
       "       [39.30918874, 39.        ],\n",
       "       [ 7.48437554, 11.        ],\n",
       "       [39.30918874, 38.        ],\n",
       "       [39.30918874, 21.        ],\n",
       "       [39.30918874, 25.        ],\n",
       "       [ 2.19843702,  1.        ],\n",
       "       [ 1.        ,  1.        ],\n",
       "       [ 1.9844347 ,  3.        ],\n",
       "       [39.30918874, 38.        ],\n",
       "       [ 1.96336637,  2.        ],\n",
       "       [21.93313662, 19.        ],\n",
       "       [21.93313662,  7.        ],\n",
       "       [21.93313662, 13.        ],\n",
       "       [ 1.        ,  1.        ],\n",
       "       [21.93313662, 12.        ],\n",
       "       [ 1.        ,  1.        ],\n",
       "       [21.93313662, 29.        ],\n",
       "       [21.93313662, 27.        ],\n",
       "       [21.93313662, 30.        ],\n",
       "       [39.30918874, 26.        ],\n",
       "       [21.93313662, 26.        ],\n",
       "       [39.30918874, 22.        ],\n",
       "       [21.93313662, 30.        ],\n",
       "       [ 1.92752764,  2.        ],\n",
       "       [39.30918874, 33.        ],\n",
       "       [21.93313662, 30.        ],\n",
       "       [39.30918874, 36.        ],\n",
       "       [39.30918874, 20.        ],\n",
       "       [21.93313662, 21.        ],\n",
       "       [21.93313662,  9.        ],\n",
       "       [ 2.21556305,  1.        ],\n",
       "       [39.30918874, 36.        ],\n",
       "       [39.30918874, 42.        ],\n",
       "       [21.93313662, 30.        ],\n",
       "       [ 7.48437554,  2.        ],\n",
       "       [ 7.48437554,  5.        ],\n",
       "       [21.93313662, 25.        ],\n",
       "       [21.93313662,  7.        ],\n",
       "       [21.93313662, 27.        ],\n",
       "       [39.30918874, 39.        ],\n",
       "       [21.93313662, 27.        ],\n",
       "       [39.30918874, 34.        ],\n",
       "       [ 5.1284157 ,  7.        ],\n",
       "       [21.93313662, 30.        ],\n",
       "       [21.93313662, 25.        ],\n",
       "       [39.30918874, 36.        ],\n",
       "       [21.93313662,  8.        ],\n",
       "       [39.30918874, 35.        ],\n",
       "       [ 1.90522303,  3.        ],\n",
       "       [39.30918874, 37.        ],\n",
       "       [39.30918874, 55.        ],\n",
       "       [ 7.48437554, 11.        ],\n",
       "       [ 2.00742979,  1.        ],\n",
       "       [21.93313662, 20.        ]])"
      ]
     },
     "execution_count": 62,
     "metadata": {},
     "output_type": "execute_result"
    }
   ],
   "source": [
    "# Show some of the predictions vs. the real number of pickups\n",
    "# predictions vs. real number of pickups\n",
    "np.column_stack((reg.predict(X_test),y_test))"
   ]
  },
  {
   "cell_type": "code",
   "execution_count": 63,
   "metadata": {},
   "outputs": [
    {
     "data": {
      "text/plain": [
       "<matplotlib.axes._subplots.AxesSubplot at 0x132e55a58>"
      ]
     },
     "execution_count": 63,
     "metadata": {},
     "output_type": "execute_result"
    },
    {
     "data": {
      "image/png": "[encoded data removed]",
      "text/plain": [
       "<Figure size 432x288 with 1 Axes>"
      ]
     },
     "metadata": {
      "needs_background": "light"
     },
     "output_type": "display_data"
    }
   ],
   "source": [
    "fig, ax = plt.subplots()\n",
    "\n",
    "y_train.plot(kind='hist', bins=100)"
   ]
  },
  {
   "cell_type": "code",
   "execution_count": 64,
   "metadata": {},
   "outputs": [
    {
     "data": {
      "text/plain": [
       "<matplotlib.axes._subplots.AxesSubplot at 0x131a8dcf8>"
      ]
     },
     "execution_count": 64,
     "metadata": {},
     "output_type": "execute_result"
    },
    {
     "data": {
      "image/png": "[encoded data removed]",
      "text/plain": [
       "<Figure size 432x288 with 1 Axes>"
      ]
     },
     "metadata": {
      "needs_background": "light"
     },
     "output_type": "display_data"
    }
   ],
   "source": [
    "fig, ax = plt.subplots()\n",
    "\n",
    "y_test.plot(kind='hist', bins=100)"
   ]
  },
  {
   "cell_type": "code",
   "execution_count": 65,
   "metadata": {},
   "outputs": [
    {
     "name": "stdout",
     "output_type": "stream",
     "text": [
      "RMSE = 7.331\n"
     ]
    }
   ],
   "source": [
    "# Calculate the Root Mean Squared Error\n",
    "rmse = np.sqrt(mean_squared_error(reg.predict(X_test),y_test))\n",
    "print (\"RMSE = %0.3f\" % rmse)"
   ]
  },
  {
   "cell_type": "code",
   "execution_count": 66,
   "metadata": {},
   "outputs": [
    {
     "data": {
      "text/plain": [
       "[('longitude', 0.637642844073282),\n",
       " ('latitude', 0.3619263611965657),\n",
       " ('weekend', 0.00042536494447745703),\n",
       " ('minute', 4.768902205615061e-06),\n",
       " ('hour', 6.608834691891882e-07)]"
      ]
     },
     "execution_count": 66,
     "metadata": {},
     "output_type": "execute_result"
    }
   ],
   "source": [
    "# What are the most important features?\n",
    "import operator\n",
    "dict_feat_imp = dict(zip(list(X.columns.values),reg.feature_importances_))\n",
    "\n",
    "sorted_features = sorted(dict_feat_imp.items(), key=operator.itemgetter(1), reverse=True)\n",
    "sorted_features"
   ]
  },
  {
   "cell_type": "code",
   "execution_count": 52,
   "metadata": {},
   "outputs": [
    {
     "data": {
      "text/plain": [
       "True"
      ]
     },
     "execution_count": 52,
     "metadata": {},
     "output_type": "execute_result"
    }
   ],
   "source": [
    "from sklearn.externals.six import StringIO  \n",
    "from IPython.display import Image  \n",
    "from sklearn.tree import export_graphviz\n",
    "import pydotplus\n",
    "\n",
    "#get decision tree output \n",
    "rf_viz = reg.estimators_[5]\n",
    "dot_data = StringIO()\n",
    "export_graphviz(rf_viz, out_file=dot_data,  \n",
    "                filled=True, rounded=True,\n",
    "                special_characters=True)\n",
    "graph = pydotplus.graph_from_dot_data(dot_data.getvalue())  \n",
    "Image(graph.create_png())\n",
    "graph.write_pdf(\"stacked-tree.pdf\")"
   ]
  },
  {
   "cell_type": "code",
   "execution_count": 53,
   "metadata": {},
   "outputs": [
    {
     "data": {
      "image/png": "[encoded data removed]",
      "text/plain": [
       "<Figure size 432x288 with 2 Axes>"
      ]
     },
     "metadata": {
      "needs_background": "light"
     },
     "output_type": "display_data"
    }
   ],
   "source": [
    "from yellowbrick.regressor import ResidualsPlot\n",
    "visualizer = ResidualsPlot(reg, hist=True)\n",
    "visualizer.fit(X_train, y_train)\n",
    "visualizer.score(X_test, y_test)\n",
    "visualizer.poof()"
   ]
  },
  {
   "cell_type": "code",
   "execution_count": 54,
   "metadata": {},
   "outputs": [
    {
     "data": {
      "text/plain": [
       "array([4.18232237e-04, 1.98304815e-06, 1.55281772e-05, 3.54853594e-01,\n",
       "       6.44710662e-01])"
      ]
     },
     "execution_count": 54,
     "metadata": {},
     "output_type": "execute_result"
    }
   ],
   "source": [
    "importances = reg.feature_importances_\n",
    "importances"
   ]
  },
  {
   "cell_type": "code",
   "execution_count": 55,
   "metadata": {},
   "outputs": [
    {
     "data": {
      "image/png": "[encoded data removed]",
      "text/plain": [
       "<Figure size 432x288 with 1 Axes>"
      ]
     },
     "metadata": {
      "needs_background": "light"
     },
     "output_type": "display_data"
    }
   ],
   "source": [
    "import matplotlib.pyplot as plt\n",
    "# Sort feature importances in descending order\n",
    "indices = np.argsort(importances)[::-1]\n",
    "features_names = ['weekend', 'hour', 'minute', 'latitude', 'longitude']\n",
    "\n",
    "# Rearrange feature names so they match the sorted feature importances\n",
    "names = [features_names[i] for i in indices]\n",
    "\n",
    "# Create plot\n",
    "plt.figure()\n",
    "\n",
    "# Create plot title\n",
    "plt.title(\"Feature Importance\")\n",
    "\n",
    "# Add bars\n",
    "plt.bar(range(X.shape[1]), importances[indices])\n",
    "\n",
    "# Add feature names as x-axis labels\n",
    "plt.xticks(range(X.shape[1]), names, rotation=90)\n",
    "\n",
    "# Show plot\n",
    "plt.show()"
   ]
  },
  {
   "cell_type": "code",
   "execution_count": 56,
   "metadata": {},
   "outputs": [
    {
     "data": {
      "text/plain": [
       "['test-stacked finalized_model.sav']"
      ]
     },
     "execution_count": 56,
     "metadata": {},
     "output_type": "execute_result"
    }
   ],
   "source": [
    "import joblib\n",
    "# save the model to disk\n",
    "filename = 'test-stacked finalized_model.sav'\n",
    "joblib.dump(best, filename)"
   ]
  }
 ],
 "metadata": {
  "kernelspec": {
   "display_name": "Python 3",
   "language": "python",
   "name": "python3"
  },
  "language_info": {
   "codemirror_mode": {
    "name": "ipython",
    "version": 3
   },
   "file_extension": ".py",
   "mimetype": "text/x-python",
   "name": "python",
   "nbconvert_exporter": "python",
   "pygments_lexer": "ipython3",
   "version": "3.6.8"
  }
 },
 "nbformat": 4,
 "nbformat_minor": 2
}
